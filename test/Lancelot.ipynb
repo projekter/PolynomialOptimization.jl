{
 "cells": [
  {
   "cell_type": "code",
   "execution_count": 1,
   "metadata": {
    "notebookRunGroups": {
     "groupValue": "1"
    }
   },
   "outputs": [],
   "source": [
    "using Revise\n",
    "using PolynomialOptimization, GALAHAD"
   ]
  },
  {
   "cell_type": "code",
   "execution_count": 2,
   "metadata": {
    "notebookRunGroups": {
     "groupValue": "1"
    }
   },
   "outputs": [
    {
     "data": {
      "text/plain": [
       "PolynomialOptimizationLancelot"
      ]
     },
     "metadata": {},
     "output_type": "display_data"
    }
   ],
   "source": [
    "L = methods(PolynomialOptimization.LANCELOT_simple)[1].module"
   ]
  },
  {
   "cell_type": "markdown",
   "metadata": {},
   "source": [
    "# Example of use\n",
    "$$\\min f(x_1, x_2, x_3) = x_1^2 + x_2 \\sin(x_1 + x_3) + 3x_2^4 x_3^4 + x_2 + 2x_1^2 x_2^2$$\n",
    "such that\n",
    "$$c(x_1, x_2, x_3) = \\cos(x_1 + 2x_1 - 1) = 0 \\\\\n",
    "-1 \\leq x_2 \\leq 1 \\\\\n",
    "1 \\leq x_3 \\leq 2$$\n",
    "\n",
    "## Groups\n",
    "1. $g_1(\\alpha) = \\alpha^2$ (non-trivial), linear element function $x_1$\n",
    "2. $g_2(\\alpha) = \\alpha$ (trivial), nonlinear element function $e_1(x_1, x_2, x_3) = x_2 \\sin(x_1 + x_3)$, elemental variables $v_1 = x_2$, $v_2 = x_1$, $v_3 = x_3$, internal variables $u_1 = v_1$, $u_2 = v_2 + v_3$\n",
    "3. $g_3(\\alpha) = \\alpha^4$ (non-trivial), weight $3$, nonlinear element function $e_2(x_2, x_3) = x_2 x_3$, elemental variables $v_1 = x_2$, $v_2 = x_3$\n",
    "4. $g_4(\\alpha) = \\alpha$ (trivial), linear element function $x_2$\n",
    "5. $g_5(\\alpha) = \\alpha^2$ (non-trivial), weight $2$, same type as group 1, nonlinear element function $e_3(x_1, x_2) = x_1 x_2$, same type as $e_2$, elemental variables $v_1 = x_1$, $v_2 = x_2$\n",
    "6. $g_6(\\alpha) = \\cos\\alpha$ (non-trivial), linear element function $x_1 + 2x_2 - 1$"
   ]
  },
  {
   "cell_type": "code",
   "execution_count": 3,
   "metadata": {
    "notebookRunGroups": {
     "groupValue": "1"
    }
   },
   "outputs": [
    {
     "data": {
      "text/plain": [
       "PolynomialOptimizationLancelot.LANCELOT_problem_type(3, 6, 3, Int32[1, 2, 3], Int32[1, 1, 2, 3, 3, 4, 4], Int32[2, 1, 3, 2, 3, 1, 2], Int32[1, 4, 6, 8], Int32[2, 2, 2, -1], Int32[-1183694016, 627, 1650756768, 32760], Int32[1, 2, 1, 2], Int32[1, 2, 2, 2, 3, 3, 5], Int32[1, 1, 1, 1, 1, 2], Int32[1, 2, 2], Int32[0, 0, 0, 1], Int32[1, 0, 2, 0, 1, 3], Int32[0, 0, 0, 0, 0, 0, 1], [1.0, 1.0, 1.0, 2.0], [0.0, 0.0, 0.0, 0.0, 0.0, 1.0], [-1.0e20, -1.0, -1.0], [1.0e20, 1.0, 2.0], [0.0, 0.0, 1.5], [5.0e-324, 5.0e-324, 5.0e-324, 5.0e-324, 5.0e-324, 5.0e-324], [6.95177592075344e-310, 6.951775920691e-310, 6.9517759206554e-310, 6.9517398802622e-310, 6.95174279498705e-310, 6.95174279456097e-310], [1.0, 1.0, 3.0, 1.0, 2.0, 1.0], [1.0, 1.0, 1.0], [1.0, 1.0, 1.0], Float64[], Float64[], PolynomialOptimizationLancelot.FortranBool[false, true, false, true, false, false], PolynomialOptimizationLancelot.FortranBool[true, false, false], PolynomialOptimizationLancelot.FortranString{10}[\"x 1       \", \"x 2       \", \"x 3       \"], PolynomialOptimizationLancelot.FortranString{10}[\"Obj 1     \", \"Obj 2     \", \"Obj 3     \", \"Obj 4     \", \"Obj 5     \", \"Constraint\"], AbstractVector[Int32[1, 2, 3], Int32[1, 1, 2, 3, 3, 4, 4], Int32[2, 1, 3, 2, 3, 1, 2], Int32[1, 4, 6, 8], Int32[2, 2, 2, -1], Int32[-1183694016, 627, 1650756768, 32760], Int32[1, 2, 1, 2], Int32[1, 2, 2, 2, 3, 3, 5], Int32[1, 1, 1, 1, 1, 2], Int32[1, 2, 2]  …  [6.95177592075344e-310, 6.951775920691e-310, 6.9517759206554e-310, 6.9517398802622e-310, 6.95174279498705e-310, 6.95174279456097e-310], [1.0, 1.0, 3.0, 1.0, 2.0, 1.0], [1.0, 1.0, 1.0], [1.0, 1.0, 1.0], Float64[], Float64[], PolynomialOptimizationLancelot.FortranBool[false, true, false, true, false, false], PolynomialOptimizationLancelot.FortranBool[true, false, false], PolynomialOptimizationLancelot.FortranString{10}[\"x 1       \", \"x 2       \", \"x 3       \"], PolynomialOptimizationLancelot.FortranString{10}[\"Obj 1     \", \"Obj 2     \", \"Obj 3     \", \"Obj 4     \", \"Obj 5     \", \"Constraint\"]])"
      ]
     },
     "metadata": {},
     "output_type": "display_data"
    }
   ],
   "source": [
    "prob = L.LANCELOT_problem_type(\n",
    "    # As the first, third, fifth and sixth group functions are non-trivial, we set GXEQX as:\n",
    "    GXEQX=L.FortranBool[false, true, false, true, false, false],\n",
    "    # Non-trivial groups 1 and 5 involve functions of the same type (we label this a \"type 1\"\n",
    "    # group; the actual label is unimportant, so long as groups of different types have\n",
    "    # different labels), and these are different from those for groups 2 and 6 (which we call\n",
    "    # \"types 2\" and \"3\")—by convention, trivial groups are of \"type 0\". So we set ITYPEG as:\n",
    "    ITYPEG=Cint[1, 0, 2, 0, 1, 3],\n",
    "    # The first five groups are associated with the objective function while the sixth\n",
    "    # defines a constraint so we set KNDOFG as:\n",
    "    KNDOFG=Cint[1, 1, 1, 1, 1, 2],\n",
    "    # The first nonlinear element occurs in group 2, the second in group 3 and the last in\n",
    "    # group 5; each element is unweighted. We thus set IELING, ESCALE and ISTADG as:\n",
    "    IELING=Cint[1, 2, 3],\n",
    "    ESCALE=Cdouble[1, 1, 1],\n",
    "    ISTADG=Cint[1, 1, 2, 3, 3, 4, 4],\n",
    "    # The first nonlinear element function is not a quadratic function of its internal\n",
    "    # variables so we set control.quadratic_problem=false. The second and third nonlinear\n",
    "    # element functions are of the same type (we number this a \"type 2\" element), while the\n",
    "    # first nonlinear element is different (a \"type 1\" element). So we set ITYPEE as:\n",
    "    ITYPEE=Cint[1, 2, 2],\n",
    "    # Nonlinear element one, e_1 assigns variables x_2, x_1 and x_3 to its elemental\n",
    "    # variables, while the second and third nonlinear elements e_2 and e_3 assign variables\n",
    "    # x_2 and x_3, and x_1 and x_2 to their elemental variables, respectively. Hence\n",
    "    # IELVAR contains:\n",
    "    IELVAR=Cint[2, 1, 3, 2, 3, 1, 2],\n",
    "    # In this vector, we now locate the position of the first variable of each nonlinear\n",
    "    # element, and build the vector ISTAEV as follows:\n",
    "    ISTAEV=Cint[1, 4, 6, 8],\n",
    "    # All three nonlinear elements have two internal variables — elements two and three using\n",
    "    # their elemental variables as internals — so we set INTVAR as follows:\n",
    "    INTVAR=Cint[2, 2, 2, -1],\n",
    "    # As the first nonlinear element has a useful transformation between elemental and\n",
    "    # internal variables, while the other two do not, INTREP contains:\n",
    "    INTREP=L.FortranBool[true, false, false],\n",
    "    # Turning to the linear elements, groups one, four and six each have a linear element.\n",
    "    # Those from groups one and four involve a single variable — x_1 for group one and x_2\n",
    "    # for group four. That from group six involves the variables x_1 and x_3. All the\n",
    "    # coefficients, excepting the last, are one; the last is two. We thus set ISTADA as:\n",
    "    ISTADA=Cint[1, 2, 2, 2, 3, 3, 5],\n",
    "    # and ICNA and A as\n",
    "    ICNA=Cint[1, 2, 1, 2],\n",
    "    A=Cdouble[1, 1, 1, 2],\n",
    "    # Only the last group has a constant term so B is set to:\n",
    "    B=Cdouble[0, 0, 0, 0, 0, 1],\n",
    "    # The bounds for the problem are set in BL and BU. As the first variable is allowed to\n",
    "    # take any value, we specify lower and upper bounds of ±10^20. Thus we set\n",
    "    BL=Cdouble[-1e20, -1, -1],\n",
    "    BU=Cdouble[1e20, 1, 2],\n",
    "    # The 3rd group is scaled by 3.0, the fifth by 2.0, while the others are unscaled. Thus\n",
    "    # we set GSCALE to:\n",
    "    GSCALE=Cdouble[1, 1, 3, 1, 2, 1],\n",
    "    # It is unclear that the variables are badly scaled so we set VSCALE to:\n",
    "    VSCALE=Cdouble[1, 1, 1],\n",
    "    # Finally, we choose to allocate the names Obj 1 to Obj 5 to the four groups associated\n",
    "    # with the objective function and call the constraint group Constraint. The variables\n",
    "    # are called x 1 to x 3. We thus set GNAMES and VNAMES to:\n",
    "    GNAMES=[\"Obj 1\", \"Obj 2\", \"Obj 3\", \"Obj 4\", \"Obj 5\", \"Constraint\"],\n",
    "    VNAMES=[\"x 1\", \"x 2\", \"x 3\"],\n",
    "    # Notice that, in our example, neither the group nor nonlinear element functions depends\n",
    "    # upon parameters, so both EPVALU and GPVALU are empty, and consequently all components\n",
    "    # of the parameter starting address arrays ISTEPA and ISTGPA should be set to 0.\n",
    "    EPVALU=Cdouble[],\n",
    "    GPVALU=Cdouble[],\n",
    "    ISTEPA=Cint[0, 0, 0, 1],\n",
    "    ISTGPA=Cint[0, 0, 0, 0, 0, 0, 1],\n",
    "    X=Cdouble[0, 0, 1.5],\n",
    "    Y=Vector{Cdouble}(undef, 6), # Y[end] = 0??\n",
    "    C=Vector{Cdouble}(undef, 6)\n",
    ")"
   ]
  },
  {
   "cell_type": "markdown",
   "metadata": {},
   "source": [
    "Notice that, in our example, neither the group nor nonlinear element functions depends upon parameters, so both `prob.EPVALU` and `prob.GPVALU` are empty, and consequently all components of the parameter starting address arrays `prob.ISTEPA` and `prob.ISTGPA` should be set to `0`.\n",
    "LANCELOT solve leaves the computation of function and derivative values of the group and nonlinear element functions to the user—this may either be done internally (by providing suitable `GROUP` and `ELFUN` callbacks), or externally via reverse communication. We need only to specify the group functions for the non-trivial groups, groups 1, 3 and 5. Also note that the function and gradient values are only evaluated if the component is specified in `ICALCG`.\n",
    "\n",
    "A suitable GROUP subroutine might be the following:"
   ]
  },
  {
   "cell_type": "code",
   "execution_count": 4,
   "metadata": {
    "notebookRunGroups": {
     "groupValue": "1"
    }
   },
   "outputs": [
    {
     "data": {
      "text/plain": [
       "GROUP (generic function with 1 method)"
      ]
     },
     "metadata": {},
     "output_type": "display_data"
    }
   ],
   "source": [
    "function GROUP(GVALUE, FVALUE, GPVALU, ncalcg, ITYPEG, ISTGPA, ICALCG, derivs)\n",
    "    @inbounds for jcalcg in 1:ncalcg\n",
    "        igroup = ICALCG[jcalcg]\n",
    "        igrtyp = ITYPEG[igroup]\n",
    "        iszero(igrtyp) && continue # skip if the group is trivial\n",
    "        ipstrt = ISTGPA[igroup] -1\n",
    "        if igrtyp == 1\n",
    "            α = FVALUE[igroup]\n",
    "            if !derivs\n",
    "                GVALUE[igroup, 1] = α * α\n",
    "            else\n",
    "                GVALUE[igroup, 2] = 2α\n",
    "                GVALUE[igroup, 3] = 2\n",
    "            end\n",
    "        elseif igrtyp == 2\n",
    "            α = FVALUE[igroup]\n",
    "            α² = α * α\n",
    "            if !derivs\n",
    "                GVALUE[igroup, 1] = α² * α²\n",
    "            else\n",
    "                GVALUE[igroup, 2] = 4α² * α\n",
    "                GVALUE[igroup, 3] = 12α²\n",
    "            end\n",
    "        elseif igrtyp == 3\n",
    "            α = FVALUE[igroup]\n",
    "            if !derivs\n",
    "                GVALUE[igroup, 1] = cos(α)\n",
    "            else\n",
    "                GVALUE[igroup, 2] = -sin(α)\n",
    "                GVALUE[igroup, 3] = -cos(α)\n",
    "            end\n",
    "        end\n",
    "    end\n",
    "    return 0\n",
    "end;"
   ]
  },
  {
   "cell_type": "markdown",
   "metadata": {},
   "source": [
    "Here, the boolean parameter `derivs` set `true` specifies that the first and second derivatives are required; a `false` value will return the function values.\n",
    "\n",
    "To evaluate the values and derivatives of the nonlinear element functions, the following `ELFUN` subroutine would be suitable:"
   ]
  },
  {
   "cell_type": "code",
   "execution_count": 5,
   "metadata": {
    "notebookRunGroups": {
     "groupValue": "1"
    }
   },
   "outputs": [
    {
     "data": {
      "text/plain": [
       "ELFUN (generic function with 1 method)"
      ]
     },
     "metadata": {},
     "output_type": "display_data"
    }
   ],
   "source": [
    "function ELFUN(FUVALS, XVALUE, EPVALU, ncalcf, ITYPEE, ISTAEV, IELVAR, INTVAR, ISTADH, ISTEPA, ICALCF, ifflag)\n",
    "    @inbounds for jcalcf in 1:ncalcf\n",
    "        ielemn = ICALCF[jcalcf]\n",
    "        ilstrt = ISTAEV[ielemn] -1\n",
    "        igstrt = INTVAR[ielemn] -1\n",
    "        ipstrt = ISTEPA[ielemn] -1\n",
    "        if ifflag == 3\n",
    "            ihstrt = ISTADH[ielemn] -1\n",
    "        end\n",
    "        ieltyp = ITYPEE[ielemn]\n",
    "        if ieltyp == 1\n",
    "            u1 = XVALUE[IELVAR[ilstrt+1]]\n",
    "            u2 = XVALUE[IELVAR[ilstrt+2]]\n",
    "            u3 = XVALUE[IELVAR[ilstrt+3]]\n",
    "            v1 = u1\n",
    "            v2 = u2 + u3\n",
    "            cs = cos(v2)\n",
    "            sn = sin(v2)\n",
    "            if ifflag == 1\n",
    "                FUVALS[ielemn] = v1 * sn\n",
    "            else\n",
    "                FUVALS[igstrt+1] = sn\n",
    "                FUVALS[igstrt+2] = v1 * cs\n",
    "                if ifflag == 3\n",
    "                    FUVALS[ihstrt+1] = 0\n",
    "                    FUVALS[ihstrt+2] = cs\n",
    "                    FUVALS[ihstrt+3] = -v1 * sn\n",
    "                end\n",
    "            end\n",
    "        elseif ieltyp == 2\n",
    "            u1 = XVALUE[IELVAR[ilstrt+1]]\n",
    "            u2 = XVALUE[IELVAR[ilstrt+2]]\n",
    "            if ifflag == 1\n",
    "                FUVALS[ielemn] = u1 * u2\n",
    "            else\n",
    "                FUVALS[igstrt+1] = u2\n",
    "                FUVALS[igstrt+2] = u1\n",
    "                if ifflag == 3\n",
    "                    FUVALS[ihstrt+1] = 0\n",
    "                    FUVALS[ihstrt+2] = 1\n",
    "                    FUVALS[ihstrt+3] = 0\n",
    "                end\n",
    "            end\n",
    "        end\n",
    "    end\n",
    "    return 0\n",
    "end;"
   ]
  },
  {
   "cell_type": "markdown",
   "metadata": {},
   "source": [
    "The integer parameter `ifflag` specifies whether function values (`ifflag = 1`) or derivatives (`ifflag > 1`) are required. When `ifflag = 2`, just first derivatives are required, while `ifflag = 3` also requests second derivatives. Notice that the derivatives are taken with respect to the internal variables. For the first nonlinear element function, this means that we must transform from elemental to internal variables before evaluating the derivatives. Thus, as this function may be written as $f(\\nu_1, \\nu_2) = \\nu_1 \\sin\\nu_2$, where $\\nu_1 = u_1$ and $\\nu_2 = u_2 + u_3$, the gradient and Hessian matrix are\n",
    "$$\\begin{pmatrix} \\sin\\nu_2 \\\\ \\nu_1\\cos\\nu_2 \\end{pmatrix}\n",
    "\\quad\\text{and}\\quad\n",
    "\\begin{pmatrix} 0 & \\cos\\nu_2 \\\\ \\cos\\nu_2 & -\\nu_1\\sin\\nu_2 \\end{pmatrix}\\text,$$\n",
    "respectively. Notice that it is easy to specify the second derivatives for this example so we do so. Also note that the function and gradient values are only evaluated if the component is specified in `ICALCF`. We must also specify the routine `RANGE` for our example. As we have observed, only the first element has a useful transformation. The transformation matrix is\n",
    "$$\\begin{pmatrix} 1 & 0 & 0 \\\\ 0 & 1 & 1 \\end{pmatrix}\\text.$$\n",
    "As a consequence, the following routine `RANGE` is appropriate:"
   ]
  },
  {
   "cell_type": "code",
   "execution_count": 6,
   "metadata": {
    "notebookRunGroups": {
     "groupValue": "1"
    }
   },
   "outputs": [
    {
     "data": {
      "text/plain": [
       "RANGE (generic function with 1 method)"
      ]
     },
     "metadata": {},
     "output_type": "display_data"
    }
   ],
   "source": [
    "function RANGE(ielemn, transp, W1, W2, nelvar, ninvar, ieltyp)\n",
    "    @inbounds if ieltyp == 1 # Element type 1 has a non-trivial transformation\n",
    "        if transp\n",
    "            W2[1] = W1[1]\n",
    "            W2[2] = W1[2]\n",
    "            W2[3] = W1[2]\n",
    "        else\n",
    "            W2[1] = W1[1]\n",
    "            W2[2] = W1[2] + W1[3]\n",
    "        end\n",
    "    end\n",
    "    # Element 2 has a trivial transformation - no action required\n",
    "end;"
   ]
  },
  {
   "cell_type": "markdown",
   "metadata": {},
   "source": [
    "This completes the supply of information to LANCELOT solve. The problem may now be solved using the following program. We choose to solve the model subproblem using a preconditioned conjugate gradient scheme, using diagonal preconditioning, a \"box\" shaped trust-region, calculating an exact Cauchy point at each iteration but not obtaining an accurate minimizer of the model within the box. Furthermore, we start from the initial estimate $x_1 = 0.0$, $x_2 = 0.0$ and $x_3 = 1.5$. As we have no idea of a good estimate for the Lagrange multiplier associated with the constraint (group 6), we set $y_6 = 0$. We observe that the objective function is bounded below by $-2.0$ within the feasible box and terminate when the norms of the reduced gradient of the Lagrangian function and constraints are smaller than $10^{-5}$."
   ]
  },
  {
   "cell_type": "code",
   "execution_count": 7,
   "metadata": {},
   "outputs": [
    {
     "data": {
      "text/plain": [
       "PolynomialOptimizationLancelot.LANCELOT_inform_type(0, 0, -1, -1, -1, 0, 0, 0, 0, 0, 0, 0, 1.7976931348623157e308, 1.7976931348623157e308, 1.7976931348623157e308, 0.0, 0.0, 0.0, 0.0, 0.0, false, (32, 32, 32, 32, 32, 32, 32, 32, 32, 32, 32, 32, 32, 32, 32, 32, 32, 32, 32, 32, 32, 32, 32, 32, 32, 32, 32, 32, 32, 32, 32, 32, 32, 32, 32, 32, 32, 32, 32, 32, 32, 32, 32, 32, 32, 32, 32, 32, 32, 32, 32, 32, 32, 32, 32, 32, 32, 32, 32, 32, 32, 32, 32, 32, 32, 32, 32, 32, 32, 32, 32, 32, 32, 32, 32, 32, 32, 32, 32, 32), PolynomialOptimizationLancelot.SCU_inform_type(0, 0, (0, 0, 0)), PolynomialOptimizationLancelot.SILS_ainfo(0, 0, 0, -1, -1, -1, -1, -1, -1, 0, 0, 0, -1, 0, 0, -1.0, -1.0), PolynomialOptimizationLancelot.SILS_finfo(0, 0, -1, -1, -1, -1, -1, -1, -1, -1, -1, -1, -1, -1, -1, -1, -1, -1, -1, -1, -1, -1, -1.0, -1.0, -1.0, -1.0, 0.0, 0.0), PolynomialOptimizationLancelot.SILS_sinfo(-1, -1, -1.0, -1.0, -1.0, -1.0, -1.0))"
      ]
     },
     "metadata": {},
     "output_type": "display_data"
    }
   ],
   "source": [
    "data, control = L.LANCELOT_initialize()\n",
    "info = L.LANCELOT_inform_type()"
   ]
  },
  {
   "cell_type": "code",
   "execution_count": 8,
   "metadata": {},
   "outputs": [],
   "source": [
    "control.maxit = 100\n",
    "control.out = 6\n",
    "control.print_level = 1\n",
    "control.stopg = 0.00001\n",
    "control.stopc = 0.00001\n",
    "control.linear_solver = 1\n",
    "control.exact_gcp = false\n",
    "\n",
    "info.status = 0;"
   ]
  },
  {
   "cell_type": "code",
   "execution_count": 9,
   "metadata": {},
   "outputs": [],
   "source": [
    "L.LANCELOT_solve(prob; RANGE, control, inform=info, data, ELFUN, GROUP)"
   ]
  },
  {
   "cell_type": "code",
   "execution_count": 53,
   "metadata": {},
   "outputs": [
    {
     "name": "stdout",
     "output_type": "stream",
     "text": [
      "-1 iterations. Optimal objective value = 1.7976931348623157e308, Optimal solution = [0.0, 0.0, 1.5]\n"
     ]
    }
   ],
   "source": [
    "if iszero(info.status)\n",
    "    println(info.iter, \" iterations. Optimal objective value = \", info.obj, \", Optimal solution = \", prob.X)\n",
    "else\n",
    "    println(\"LANCELOT_solve exit status \", info.status)\n",
    "end"
   ]
  },
  {
   "cell_type": "code",
   "execution_count": 54,
   "metadata": {},
   "outputs": [
    {
     "data": {
      "text/plain": [
       "PolynomialOptimizationLancelot.LANCELOT_problem_type(3, 6, 3, Int32[1, 2, 3], Int32[1, 1, 2, 3, 3, 4, 4], Int32[2, 1, 3, 2, 3, 1, 2], Int32[1, 4, 6, 8], Int32[2, 2, 2, -1], Int32[#undef], Int32[1, 2, 1, 2], Int32[1, 2, 2, 2, 3, 3, 5], Int32[1, 1, 1, 1, 1, 2], Int32[1, 2, 2], Int32[0, 0, 0, 1], Int32[1, 0, 2, 0, 1, 3], Int32[0, 0, 0, 0, 0, 0, 1], [1.0, 1.0, 1.0, 2.0], [0.0, 0.0, 0.0, 0.0, 0.0, 1.0], [-1.0e20, -1.0, -1.0], [1.0e20, 1.0, 2.0], [0.0, 0.0, 1.5], [6.95173925665727e-310, 6.95173925665727e-310, 6.95173925665727e-310, 6.95173925665727e-310, 6.95173925665727e-310, 6.95173925665727e-310], [1.330926457704e-311, 6.95174279455464e-310, 1.3309264577277e-311, 1.3309264577593e-311, 6.95174279455464e-310, 6.95174279455464e-310], [1.0, 1.0, 3.0, 1.0, 2.0, 1.0], [1.0, 1.0, 1.0], [1.0, 1.0, 1.0], Float64[], Float64[], Int32[0, 1, 0, 1, 0, 0], Int32[1, 0, 0], PolynomialOptimizationLancelot.FortranString{10}[\"x 1       \", \"x 2       \", \"x 3       \"], PolynomialOptimizationLancelot.FortranString{10}[\"Obj 1     \", \"Obj 2     \", \"Obj 3     \", \"Obj 4     \", \"Obj 5     \", \"Constraint\"], AbstractVector[Int32[1, 2, 3], Int32[1, 1, 2, 3, 3, 4, 4], Int32[2, 1, 3, 2, 3, 1, 2], Int32[1, 4, 6, 8], Int32[2, 2, 2, -1], Int32[1, 2, 1, 2], Int32[1, 2, 2, 2, 3, 3, 5], Int32[1, 1, 1, 1, 1, 2], Int32[1, 2, 2], Int32[0, 0, 0, 1]  …  [1.330926457704e-311, 6.95174279455464e-310, 1.3309264577277e-311, 1.3309264577593e-311, 6.95174279455464e-310, 6.95174279455464e-310], [1.0, 1.0, 3.0, 1.0, 2.0, 1.0], [1.0, 1.0, 1.0], [1.0, 1.0, 1.0], Float64[], Float64[], Int32[0, 1, 0, 1, 0, 0], Int32[1, 0, 0], PolynomialOptimizationLancelot.FortranString{10}[\"x 1       \", \"x 2       \", \"x 3       \"], PolynomialOptimizationLancelot.FortranString{10}[\"Obj 1     \", \"Obj 2     \", \"Obj 3     \", \"Obj 4     \", \"Obj 5     \", \"Constraint\"]])"
      ]
     },
     "metadata": {},
     "output_type": "display_data"
    }
   ],
   "source": [
    "prob"
   ]
  },
  {
   "cell_type": "code",
   "execution_count": null,
   "metadata": {},
   "outputs": [],
   "source": []
  }
 ],
 "metadata": {
  "kernelspec": {
   "display_name": "Julia 1.10.4",
   "language": "julia",
   "name": "julia-1.10"
  },
  "language_info": {
   "file_extension": ".jl",
   "mimetype": "application/julia",
   "name": "julia",
   "version": "1.10.4"
  }
 },
 "nbformat": 4,
 "nbformat_minor": 2
}
